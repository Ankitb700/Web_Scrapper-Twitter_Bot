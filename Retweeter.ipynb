{
 "cells": [
  {
   "cell_type": "code",
   "execution_count": 51,
   "id": "6e3d354e",
   "metadata": {},
   "outputs": [],
   "source": [
    "from selenium import webdriver\n",
    "from selenium.webdriver.common.by import By\n",
    "\n",
    "driver = webdriver.Chrome()\n",
    "driver.get(\"https://twitter.com/i/flow/login\")"
   ]
  },
  {
   "cell_type": "code",
   "execution_count": 52,
   "id": "13fd5df9",
   "metadata": {},
   "outputs": [],
   "source": [
    "username = driver.find_element(By.TAG_NAME,\"input\")\n",
    "username.send_keys(\"shadowmona68279\")"
   ]
  },
  {
   "cell_type": "code",
   "execution_count": 53,
   "id": "86ccc627",
   "metadata": {},
   "outputs": [],
   "source": [
    "all_buttons = driver.find_elements(By.XPATH,\"//div[@role='button']\")\n",
    "all_buttons[-2].click()"
   ]
  },
  {
   "cell_type": "code",
   "execution_count": 54,
   "id": "026710ad",
   "metadata": {},
   "outputs": [],
   "source": [
    "password = driver.find_element(By.XPATH,\"//input[@type='password']\")\n",
    "password.send_keys(\"Destroyer@nkit\")"
   ]
  },
  {
   "cell_type": "code",
   "execution_count": 55,
   "id": "97e40439",
   "metadata": {},
   "outputs": [],
   "source": [
    "all_buttons = driver.find_elements(By.XPATH,\"//div[@role='button']\")\n",
    "all_buttons[-1].click()"
   ]
  },
  {
   "cell_type": "code",
   "execution_count": 56,
   "id": "1cabef48",
   "metadata": {},
   "outputs": [],
   "source": [
    "keyword = \"dog\"\n",
    "driver.get(\"https://twitter.com/search?q=\" +keyword+ \"&src=typed_query\")"
   ]
  },
  {
   "cell_type": "code",
   "execution_count": 57,
   "id": "2401f438",
   "metadata": {},
   "outputs": [],
   "source": [
    "retweet = driver.find_elements(By.XPATH,\"//div[@data-testid='retweet']\")\n",
    "retweet[0].click()"
   ]
  },
  {
   "cell_type": "code",
   "execution_count": 58,
   "id": "2997f7bb",
   "metadata": {},
   "outputs": [],
   "source": [
    "quote_tweet = driver.find_element(By.XPATH,\"//a[@role='menuitem']\")\n",
    "quote_tweet.click()"
   ]
  },
  {
   "cell_type": "code",
   "execution_count": 59,
   "id": "e80f1356",
   "metadata": {},
   "outputs": [],
   "source": [
    "#public-DraftstyleDefault-block\n",
    "\n",
    "quote = driver.find_element(By.XPATH,\"//div[contains(@class,'public-DraftStyleDefault-block')]\")\n",
    "quote.send_keys(\"OMG!! so funny\")"
   ]
  },
  {
   "cell_type": "code",
   "execution_count": 61,
   "id": "b1323029",
   "metadata": {},
   "outputs": [],
   "source": [
    "tweet = driver.find_element(By.XPATH,\"//div[@data-testid='tweetButton']\")\n",
    "tweet.click()"
   ]
  },
  {
   "cell_type": "markdown",
   "id": "0d91496e",
   "metadata": {},
   "source": [
    "# COMBINE ALL CELLS"
   ]
  },
  {
   "cell_type": "code",
   "execution_count": null,
   "id": "3771b880",
   "metadata": {},
   "outputs": [],
   "source": [
    "import random\n",
    "import time\n",
    "\n",
    "from selenium import webdriver\n",
    "from selenium.webdriver.common.by import By\n",
    "\n",
    "#navigate ti twiter's login page\n",
    "driver = webdriver.Chrome()\n",
    "driver.get(\"https://twitter.com/i/flow/login\")\n",
    "\n",
    "time.sleep(5)\n",
    "#enter username\n",
    "\n",
    "username = driver.find_element(By.TAG_NAME,\"input\")\n",
    "username.send_keys(\"shadowmona68279\")\n",
    "\n",
    "#press on the 'next' button\n",
    "all_buttons = driver.find_elements(By.XPATH,\"//div[@role='button']\")\n",
    "all_buttons[-2].click()\n",
    "\n",
    "time.sleep(5)\n",
    "\n",
    "#enter password\n",
    "password = driver.find_element(By.XPATH,\"//input[@type='password']\")\n",
    "password.send_keys(\"Destroyer@nkit\")\n",
    "\n",
    "time.sleep(5)\n",
    "\n",
    "#press on the login button\n",
    "all_buttons = driver.find_elements(By.XPATH,\"//div[@role='button']\")\n",
    "all_buttons[-1].click()\n",
    "\n",
    "time.sleep(5)\n",
    "\n",
    "#search keyword\n",
    "keyword = \"Cricket\"\n",
    "driver.get(\"https://twitter.com/search?q=\" +keyword+ \"&src=typed_query\")\n",
    "time.sleep(5)\n",
    "\n",
    "#find the retweet among the list\n",
    "messages = [\"WWWOOOOOOO!!!\",\"SO CUUUTEEEEE!\",\"THIS IS AWESOMEEEEE!!\",\"FANTASTIC!!!!\"]\n",
    "n_cols =3\n",
    "\n",
    "for scroll in range(n_cols):\n",
    "    \n",
    "    retweet = driver.find_elements(By.XPATH,\"//div[@data-testid='retweet']\")\n",
    "    driver.execute_script(\"arguments[0].click();\",retweet[-1])\n",
    "\n",
    "    time.sleep(5)\n",
    "\n",
    "    quote_tweet = driver.find_element(By.XPATH,\"//a[@role='menuitem']\")\n",
    "    quote_tweet.click()\n",
    "\n",
    "    time.sleep(5)\n",
    "\n",
    "    #public-DraftstyleDefault-block\n",
    "\n",
    "    quote = driver.find_element(By.XPATH,\"//div[contains(@class,'public-DraftStyleDefault-block')]\")\n",
    "    quote.send_keys(random.choice(messages))\n",
    "\n",
    "    time.sleep(5)\n",
    "\n",
    "    tweet = driver.find_element(By.XPATH,\"//div[@data-testid='tweetButton']\")\n",
    "    tweet.click()\n",
    "    \n",
    "    time.sleep(5)\n",
    "    driver.execute_script(\"window.scrollTo(0,document.body.scrollHeight);\")\n",
    "    time.sleep(5)"
   ]
  },
  {
   "cell_type": "code",
   "execution_count": null,
   "id": "a789944b",
   "metadata": {},
   "outputs": [],
   "source": []
  },
  {
   "cell_type": "code",
   "execution_count": null,
   "id": "c94aeecd",
   "metadata": {},
   "outputs": [],
   "source": []
  }
 ],
 "metadata": {
  "kernelspec": {
   "display_name": "Python 3 (ipykernel)",
   "language": "python",
   "name": "python3"
  },
  "language_info": {
   "codemirror_mode": {
    "name": "ipython",
    "version": 3
   },
   "file_extension": ".py",
   "mimetype": "text/x-python",
   "name": "python",
   "nbconvert_exporter": "python",
   "pygments_lexer": "ipython3",
   "version": "3.9.18"
  }
 },
 "nbformat": 4,
 "nbformat_minor": 5
}
